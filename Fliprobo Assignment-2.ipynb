{
 "cells": [
  {
   "cell_type": "code",
   "execution_count": 4,
   "id": "e05f52c1",
   "metadata": {},
   "outputs": [],
   "source": [
    "import regex as re\n",
    "\n"
   ]
  },
  {
   "cell_type": "code",
   "execution_count": 9,
   "id": "f06e399c",
   "metadata": {},
   "outputs": [
    {
     "name": "stdout",
     "output_type": "stream",
     "text": [
      "['1', '2', '3', '4', '5', '6', '7', '8', '9', '8', '7', '6', '5', '4', '3', '2', '1', '0']\n"
     ]
    }
   ],
   "source": [
    "Str = '123456789876543210'\n",
    "x = re.findall(\"[0-9]\",Str)\n",
    "print(x)"
   ]
  },
  {
   "cell_type": "code",
   "execution_count": null,
   "id": "63e8e341",
   "metadata": {},
   "outputs": [],
   "source": []
  },
  {
   "cell_type": "code",
   "execution_count": 6,
   "id": "733d38ef",
   "metadata": {},
   "outputs": [
    {
     "name": "stdout",
     "output_type": "stream",
     "text": [
      "['a', 't', 'a', 'c', 'i', 'e', 'n', 'c', 'e', 'i', 's', 'a', 's', 't', 'r', 'e', 'a', 'm', 'a', 'n', 'd', 'i', 't', 'i', 's', 'a', 'p', 'a', 'r', 't', 'o', 'f', 'e', 'c', 'a', 'n', 's', 'o', 'l', 'v', 'e', 'a', 'n', 'y', 'c', 'o', 'm', 'p', 'l', 'e', 'x', 'p', 'r', 'o', 'b', 'l', 'e', 'm', 'u', 's', 'i', 'n', 'g', 'd', 'a', 't', 'a', 's', 'c', 'i', 'e', 'n', 'c', 'e', 't', 'o', 'o', 'l', 's', 'a', 'n', 'd', 't', 'e', 'c', 'h']\n"
     ]
    }
   ],
   "source": [
    "Str1 = \" Data Science is a stream and it is a part of AI. We can solve any complex problem using data science tools and tech\"\n",
    "x = re.findall(\"[a-z]\",Str1)\n",
    "print(x)"
   ]
  },
  {
   "cell_type": "code",
   "execution_count": 8,
   "id": "4d182e55",
   "metadata": {},
   "outputs": [
    {
     "name": "stdout",
     "output_type": "stream",
     "text": [
      "['D', 'A', 'I']\n"
     ]
    }
   ],
   "source": [
    "Str2 = \"Data science ia s stream and it is a part of AI \"\n",
    "x = re.findall('[A-Z]',Str2)\n",
    "print(x)"
   ]
  },
  {
   "cell_type": "code",
   "execution_count": null,
   "id": "43068db2",
   "metadata": {},
   "outputs": [],
   "source": []
  }
 ],
 "metadata": {
  "kernelspec": {
   "display_name": "Python 3 (ipykernel)",
   "language": "python",
   "name": "python3"
  },
  "language_info": {
   "codemirror_mode": {
    "name": "ipython",
    "version": 3
   },
   "file_extension": ".py",
   "mimetype": "text/x-python",
   "name": "python",
   "nbconvert_exporter": "python",
   "pygments_lexer": "ipython3",
   "version": "3.11.4"
  }
 },
 "nbformat": 4,
 "nbformat_minor": 5
}
